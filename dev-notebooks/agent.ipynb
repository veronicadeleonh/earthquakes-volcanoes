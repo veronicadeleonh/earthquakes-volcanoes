{
 "cells": [
  {
   "cell_type": "code",
   "execution_count": 1,
   "metadata": {},
   "outputs": [
    {
     "data": {
      "text/plain": [
       "True"
      ]
     },
     "execution_count": 1,
     "metadata": {},
     "output_type": "execute_result"
    }
   ],
   "source": [
    "from openai import OpenAI\n",
    "import os\n",
    "\n",
    "# from agent.prompts import SYSTEM_PROMPT\n",
    "from dotenv import load_dotenv\n",
    "\n",
    "load_dotenv()"
   ]
  },
  {
   "cell_type": "code",
   "execution_count": 2,
   "metadata": {},
   "outputs": [],
   "source": [
    "import textwrap # Text wrapping\n",
    "from pprint import pprint # Pretty printing json\n",
    "\n",
    "def pretty_print(response):\n",
    "    if isinstance(response, (str, dict)):\n",
    "        print(textwrap.fill(response, width=80))\n",
    "    else:\n",
    "        response_dict = response.model_dump()\n",
    "        pprint(response_dict, width=80)"
   ]
  },
  {
   "cell_type": "code",
   "execution_count": 3,
   "metadata": {},
   "outputs": [],
   "source": [
    "from datetime import datetime\n",
    "\n",
    "SYSTEM_PROMPT= f\"\"\"\n",
    "CURRENT DATE AND TIME:\n",
    "    {datetime.now().strftime(\"%Y-%m-%d %H:%M:%S\")}\n",
    "\"\"\""
   ]
  },
  {
   "cell_type": "code",
   "execution_count": 4,
   "metadata": {},
   "outputs": [
    {
     "name": "stdout",
     "output_type": "stream",
     "text": [
      "\\boxed{Caracas}\n"
     ]
    }
   ],
   "source": [
    "client = OpenAI(\n",
    "  base_url=\"https://openrouter.ai/api/v1\",\n",
    "  api_key=os.getenv('OPENROUTER_API_KEY'),\n",
    ")\n",
    "\n",
    "completion = client.chat.completions.create(\n",
    "#   extra_headers={\n",
    "#     \"HTTP-Referer\": \"<YOUR_SITE_URL>\", # Optional. Site URL for rankings on openrouter.ai.\n",
    "#     \"X-Title\": \"<YOUR_SITE_NAME>\", # Optional. Site title for rankings on openrouter.ai.\n",
    "#   },\n",
    "  extra_body={},\n",
    "  model=\"deepseek/deepseek-r1-zero:free\",\n",
    "  messages=[\n",
    "    {\n",
    "    \"role\": \"system\",\n",
    "    \"content\": SYSTEM_PROMPT\n",
    "    },\n",
    "    {\n",
    "      \"role\": \"user\",\n",
    "      \"content\": \"What is the capital of Venezuela?\"\n",
    "    }\n",
    "  ]\n",
    ")\n",
    "print(completion.choices[0].message.content)"
   ]
  },
  {
   "cell_type": "code",
   "execution_count": 5,
   "metadata": {},
   "outputs": [
    {
     "name": "stdout",
     "output_type": "stream",
     "text": [
      "\\boxed{Caracas\n"
     ]
    }
   ],
   "source": [
    "pretty_print(completion.choices[0].message.content.replace(\"\\boxed{\", \"\").replace(\"}\", \"\"))"
   ]
  },
  {
   "cell_type": "code",
   "execution_count": 6,
   "metadata": {},
   "outputs": [],
   "source": [
    "def agent():\n",
    "    client = OpenAI(\n",
    "        base_url=\"https://openrouter.ai/api/v1\",\n",
    "        api_key=os.getenv('OPENROUTER_API_KEY'),\n",
    "    )\n",
    "\n",
    "    completion = client.chat.completions.create(\n",
    "    extra_body={},\n",
    "    model=\"deepseek/deepseek-r1-zero:free\",\n",
    "    messages=[\n",
    "        {\"role\": \"system\", \"content\": SYSTEM_PROMPT},\n",
    "        {\"role\": \"user\",\"content\": \"do you what is the cinema in Berlin right now?\"}\n",
    "    ])\n",
    "\n",
    "    return completion.choices[0].message.content\n",
    "\n",
    "completion = agent()"
   ]
  },
  {
   "cell_type": "code",
   "execution_count": 7,
   "metadata": {},
   "outputs": [
    {
     "data": {
      "text/plain": [
       "'\\\\boxed{To find out what movies are currently playing in cinemas in Berlin, you should check a movie showtimes website such as [Kino.de](https://www.kino.de/kinoprogramm/berlin/) or [Cinestar.de](https://www.cinestar.de/). This will give you a current list of movies showing in Berlin.}'"
      ]
     },
     "execution_count": 7,
     "metadata": {},
     "output_type": "execute_result"
    }
   ],
   "source": [
    "completion"
   ]
  }
 ],
 "metadata": {
  "kernelspec": {
   "display_name": "base",
   "language": "python",
   "name": "python3"
  },
  "language_info": {
   "codemirror_mode": {
    "name": "ipython",
    "version": 3
   },
   "file_extension": ".py",
   "mimetype": "text/x-python",
   "name": "python",
   "nbconvert_exporter": "python",
   "pygments_lexer": "ipython3",
   "version": "3.12.7"
  }
 },
 "nbformat": 4,
 "nbformat_minor": 2
}
