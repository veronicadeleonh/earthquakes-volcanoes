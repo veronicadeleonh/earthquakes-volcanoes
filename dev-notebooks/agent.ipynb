{
 "cells": [
  {
   "cell_type": "code",
   "execution_count": null,
   "metadata": {},
   "outputs": [
    {
     "data": {
      "text/plain": [
       "True"
      ]
     },
     "execution_count": 1,
     "metadata": {},
     "output_type": "execute_result"
    }
   ],
   "source": [
    "from openai import OpenAI\n",
    "import os\n",
    "from agent.prompts import SYSTEM_PROMPT\n",
    "from dotenv import load_dotenv\n",
    "load_dotenv()"
   ]
  },
  {
   "cell_type": "code",
   "execution_count": null,
   "metadata": {},
   "outputs": [],
   "source": [
    "#from datetime import datetime\n",
    "\n",
    "# SYSTEM_PROMPT= f\"\"\"\n",
    "# CURRENT DATE AND TIME:\n",
    "#     {datetime.now().strftime(\"%Y-%m-%d %H:%M:%S\")}\n",
    "# - You are a research assistant that finds recent volcanic eruptions and outputs structured data.\n",
    "# - Check for the volcanic eruptions that have happened this year\n",
    "# \"\"\""
   ]
  },
  {
   "cell_type": "code",
   "execution_count": 7,
   "metadata": {},
   "outputs": [
    {
     "data": {
      "text/plain": [
       "'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'"
      ]
     },
     "execution_count": 7,
     "metadata": {},
     "output_type": "execute_result"
    }
   ],
   "source": [
    "OPENROUTER_API_KEY = os.getenv(\"OPENROUTER_API_KEY\")\n",
    "OPENROUTER_API_KEY"
   ]
  },
  {
   "cell_type": "code",
   "execution_count": 11,
   "metadata": {},
   "outputs": [
    {
     "name": "stdout",
     "output_type": "stream",
     "text": [
      "\\boxed{\n",
      "  \"answer\": \"Notable volcanic eruptions that have occurred since 2024 include specific eruptions such as: \\n1. **Kilauea, Hawaii, United States** on June 3, 2024.\\n2. **Reykjanes Peninsula, Iceland** on January 14, 2024.\\n3. **Mount Merapi, Indonesia** showing ongoing activity in early 2024.\\n4. **Mount Kanlaon, Philippines** on June 3, 2024.\\n\\nStructured answer:\\n\\n[\\n  {\\n    \\\"name\\\": \\\"Kilauea\\\",\\n    \\\"country\\\": \\\"United States\\\",\\n    \\\"location\\\": \\\"Hawaii\\\",\\n    \\\"last_activity\\\": \\\"June 3, 2024\\\"\\n  },\\n  {\\n    \\\"name\\\": \\\"Reykjanes Peninsula Volcano\\\",\\n    \\\"country\\\": \\\"Iceland\\\",\\n    \\\"location\\\": \\\"Reykjanes Peninsula\\\",\\n    \\\"last_activity\\\": \\\"January 14, 2024\\\"\\n  },\\n  {\\n    \\\"name\\\": \\\"Mount Merapi\\\",\\n    \\\"country\\\": \\\"Indonesia\\\",\\n    \\\"location\\\": \\\"Central Java, Indonesia\\\",\\n    \\\"last_activity\\\": \\\"Ongoing activity since early 2024 (verify)\\\"\\n  },\\n  {\\n    \\\"name\\\": \\\"Mount Kanlaon\\\",\\n    \\\"country\\\": \\\"Philippines\\\",\\n    \\\"location\\\": \\\"Negros Island\\\",\\n    \\\"last_activity\\\": \\\"June 3, 2024\\\"\\n  }\\n]\"\n",
      "}\n"
     ]
    }
   ],
   "source": [
    "OPENROUTER_API_KEY = os.getenv(\"OPENROUTER_API_KEY\")\n",
    "\n",
    "client = OpenAI(\n",
    "  base_url=\"https://openrouter.ai/api/v1\",\n",
    "  api_key=OPENROUTER_API_KEY,\n",
    ")\n",
    "\n",
    "completion = client.chat.completions.create(\n",
    "  extra_body={},\n",
    "  model=\"deepseek/deepseek-r1-zero:free\",\n",
    "  messages=[\n",
    "    {\"role\": \"system\", \"content\": SYSTEM_PROMPT},\n",
    "    {\"role\": \"user\", \"content\": \"Show me all the volcanic eruptions that has happened since 2024\"}\n",
    "  ]\n",
    ")\n",
    "print(completion.choices[0].message.content)"
   ]
  },
  {
   "cell_type": "code",
   "execution_count": null,
   "metadata": {},
   "outputs": [],
   "source": [
    "def agent():\n",
    "    client = OpenAI(\n",
    "        base_url=\"https://openrouter.ai/api/v1\",\n",
    "        api_key=os.getenv('OPENROUTER_API_KEY'),\n",
    "    )\n",
    "\n",
    "    completion = client.chat.completions.create(\n",
    "    extra_body={},\n",
    "    model=\"deepseek/deepseek-r1-zero:free\",\n",
    "    messages=[\n",
    "        {\"role\": \"system\", \"content\": SYSTEM_PROMPT},\n",
    "        {\"role\": \"user\",\"content\": \"do you what is the cinema in Berlin right now?\"}\n",
    "    ])\n",
    "\n",
    "    return completion.choices[0].message.content\n",
    "\n",
    "completion = agent()"
   ]
  },
  {
   "cell_type": "code",
   "execution_count": null,
   "metadata": {},
   "outputs": [
    {
     "data": {
      "text/plain": [
       "'\\\\boxed{To find out what movies are currently playing in cinemas in Berlin, you should check a movie showtimes website such as [Kino.de](https://www.kino.de/kinoprogramm/berlin/) or [Cinestar.de](https://www.cinestar.de/). This will give you a current list of movies showing in Berlin.}'"
      ]
     },
     "execution_count": 7,
     "metadata": {},
     "output_type": "execute_result"
    }
   ],
   "source": [
    "completion"
   ]
  }
 ],
 "metadata": {
  "kernelspec": {
   "display_name": ".venv",
   "language": "python",
   "name": "python3"
  },
  "language_info": {
   "codemirror_mode": {
    "name": "ipython",
    "version": 3
   },
   "file_extension": ".py",
   "mimetype": "text/x-python",
   "name": "python",
   "nbconvert_exporter": "python",
   "pygments_lexer": "ipython3",
   "version": "3.12.7"
  }
 },
 "nbformat": 4,
 "nbformat_minor": 2
}
